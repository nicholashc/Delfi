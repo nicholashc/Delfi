{
 "cells": [
  {
   "cell_type": "code",
   "execution_count": null,
   "metadata": {},
   "outputs": [],
   "source": [
    "import sys\n",
    "import numpy as np\n",
    "\n",
    "import requests\n",
    "from datetime import datetime, timedelta\n",
    "\n",
    "import matplotlib.pyplot as plt\n",
    "\n",
    "import time\n"
   ]
  },
  {
   "cell_type": "code",
   "execution_count": null,
   "metadata": {},
   "outputs": [],
   "source": [
    "current = datetime(2018, 11, 1)\n",
    "candles = []\n",
    "\n",
    "while current < datetime.now():\n",
    "    end = current + timedelta(hours=8)\n",
    "    url = f'https://api.coincap.io/v2/candles?exchange=poloniex&interval=m1&baseId=ethereum&quoteId=tether&start={int(current.timestamp()*1000)}&end={int(end.timestamp() *1000)}'\n",
    "    headers = {}\n",
    "    print(f\"requesting {current}\")\n",
    "    response = requests.request('GET', url, headers = headers, data = \"\", allow_redirects=False)\n",
    "    response.raise_for_status()\n",
    "    for candle in response.json()[\"data\"]:\n",
    "        candles.append([int(candle[\"period\"]/1000), float(candle[\"close\"])])\n",
    "            \n",
    "    current = end\n",
    "    time.sleep(1)\n",
    "    "
   ]
  },
  {
   "cell_type": "code",
   "execution_count": null,
   "metadata": {},
   "outputs": [],
   "source": [
    "np_candles = np.array(candles)\n",
    "plt.plot(np_candles[:,:1], np_candles[:,1:])"
   ]
  },
  {
   "cell_type": "code",
   "execution_count": null,
   "metadata": {},
   "outputs": [],
   "source": [
    "import pickle\n",
    "\n",
    "with open('poloniex.pickle', 'wb') as handle:\n",
    "    pickle.dump(np_candles, handle, protocol=pickle.HIGHEST_PROTOCOL)\n",
    "    "
   ]
  }
 ],
 "metadata": {
  "kernelspec": {
   "display_name": "Python 3",
   "language": "python",
   "name": "python3"
  },
  "language_info": {
   "codemirror_mode": {
    "name": "ipython",
    "version": 3
   },
   "file_extension": ".py",
   "mimetype": "text/x-python",
   "name": "python",
   "nbconvert_exporter": "python",
   "pygments_lexer": "ipython3",
   "version": "3.7.2"
  }
 },
 "nbformat": 4,
 "nbformat_minor": 2
}
