{
 "cells": [
  {
   "cell_type": "code",
   "execution_count": null,
   "metadata": {},
   "outputs": [],
   "source": [
    "import json\n",
    "\n",
    "import sys\n",
    "sys.path.append(\"/Users/nicolasburtey/.local/share/virtualenvs/backtesting-Qh-kRfsi/lib/python3.7/site-packages\")\n",
    "sys.path.append(\"/Users/nicolasburtey/anaconda3/lib/python3.7/site-packages/\")\n",
    "\n",
    "from web3 import Web3\n",
    "\n",
    "%matplotlib inline\n",
    "import matplotlib.pyplot as plt\n",
    "\n",
    "import numpy as np\n",
    "import pandas as pd\n",
    "\n",
    "import requests\n"
   ]
  },
  {
   "cell_type": "code",
   "execution_count": null,
   "metadata": {},
   "outputs": [],
   "source": [
    "from web3.auto.infura import w3\n",
    "w3.eth.blockNumber"
   ]
  },
  {
   "cell_type": "code",
   "execution_count": null,
   "metadata": {},
   "outputs": [],
   "source": [
    "import pickle\n",
    "from web3 import Web3\n",
    "\n",
    "start_block = 6629139\n",
    "last_block = 7228000\n",
    "\n",
    "blocks = {}\n",
    "\n",
    "for block_number in range(curr_block,last_block):\n",
    "    print(f\"fetching {block_number}\")\n",
    "    blocks[block_number] = w3.eth.getBlock(block_number)[\"timestamp\"]\n",
    "\n",
    "with open('blocks.pickle', 'wb') as handle:\n",
    "    pickle.dump(blocks, handle, protocol=pickle.HIGHEST_PROTOCOL)    \n"
   ]
  }
 ],
 "metadata": {
  "kernelspec": {
   "display_name": "Python 3",
   "language": "python",
   "name": "python3"
  },
  "language_info": {
   "codemirror_mode": {
    "name": "ipython",
    "version": 3
   },
   "file_extension": ".py",
   "mimetype": "text/x-python",
   "name": "python",
   "nbconvert_exporter": "python",
   "pygments_lexer": "ipython3",
   "version": "3.7.2"
  }
 },
 "nbformat": 4,
 "nbformat_minor": 2
}
